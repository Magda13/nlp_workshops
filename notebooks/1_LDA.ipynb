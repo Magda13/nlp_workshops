{
 "cells": [
  {
   "cell_type": "markdown",
   "metadata": {},
   "source": [
    "# SEJM VII RP"
   ]
  },
  {
   "cell_type": "markdown",
   "metadata": {},
   "source": [
    "Now we will analyze text data of parliamentary speeches from Polish Sejm from the previous cadency. \n",
    "\n",
    "The data was downloaded using [this API](https://mojepanstwo.pl/api/sejmometr). "
   ]
  },
  {
   "cell_type": "code",
   "execution_count": 1,
   "metadata": {},
   "outputs": [],
   "source": [
    "import pandas as pd\n",
    "import numpy as np\n",
    "import matplotlib.pyplot as plt"
   ]
  },
  {
   "cell_type": "code",
   "execution_count": 2,
   "metadata": {},
   "outputs": [],
   "source": [
    "sejm = pd.read_csv('../data/sejm.csv')"
   ]
  },
  {
   "cell_type": "code",
   "execution_count": 6,
   "metadata": {},
   "outputs": [
    {
     "data": {
      "text/plain": [
       "(71259, 4)"
      ]
     },
     "execution_count": 6,
     "metadata": {},
     "output_type": "execute_result"
    }
   ],
   "source": [
    "sejm.shape"
   ]
  },
  {
   "cell_type": "code",
   "execution_count": 4,
   "metadata": {},
   "outputs": [
    {
     "data": {
      "text/plain": [
       "Index(['lemma', 'text', 'name', 'date'], dtype='object')"
      ]
     },
     "execution_count": 4,
     "metadata": {},
     "output_type": "execute_result"
    }
   ],
   "source": [
    "sejm.columns"
   ]
  },
  {
   "cell_type": "code",
   "execution_count": 7,
   "metadata": {},
   "outputs": [
    {
     "data": {
      "text/plain": [
       "name\n",
       "Ewa Kopacz                     8057\n",
       "Wanda Nowicka                  6558\n",
       "Eugeniusz Tomasz Grzeszczak    6175\n",
       "Jerzy Wenderlich               6030\n",
       "Cezary Grabarczyk              5928\n",
       "Marek Kuchciński               5738\n",
       "Romuald Ajchler                 573\n",
       "Radosław Sikorski               547\n",
       "Piotr Szeliga                   485\n",
       "Ryszard Zbrzyzny                415\n",
       "Name: text, dtype: int64"
      ]
     },
     "execution_count": 7,
     "metadata": {},
     "output_type": "execute_result"
    }
   ],
   "source": [
    "sejm.groupby('name')['text'].\\\n",
    "    apply(lambda x: len(x)).\\\n",
    "    sort_values().nlargest(10)"
   ]
  },
  {
   "cell_type": "code",
   "execution_count": 8,
   "metadata": {},
   "outputs": [
    {
     "data": {
      "text/plain": [
       "name\n",
       "Piotr Król                     1\n",
       "Krzysztof Sońta                1\n",
       "Andrzej Smirnow                1\n",
       "Teresa Świło                   1\n",
       "Ewa Czeszejko-Sochacka         1\n",
       "Łukasz Tusk                    1\n",
       "Elżbieta Królikowska-Kińska    1\n",
       "Aleksander Sosna               1\n",
       "Robert Jagła                   1\n",
       "Aldona Młyńczak                1\n",
       "Name: text, dtype: int64"
      ]
     },
     "execution_count": 8,
     "metadata": {},
     "output_type": "execute_result"
    }
   ],
   "source": [
    "sejm.groupby('name')['text'].\\\n",
    "    apply(lambda x: len(x)).\\\n",
    "    sort_values().nsmallest(10)"
   ]
  },
  {
   "cell_type": "code",
   "execution_count": 7,
   "metadata": {},
   "outputs": [],
   "source": [
    "filtered = sejm.groupby('name')['text'].\\\n",
    "    filter(lambda x: len(x) >= 10)\n",
    "sejm = sejm[sejm['text'].isin(filtered)]"
   ]
  },
  {
   "cell_type": "code",
   "execution_count": 8,
   "metadata": {},
   "outputs": [
    {
     "data": {
      "text/plain": [
       "name\n",
       "Wojciech Rafał Wiewiórowski    20848.833333\n",
       "Marek Michalak                 15007.142857\n",
       "Donald Tusk                    14992.770833\n",
       "Olgierd Dziekoński             12197.333333\n",
       "Sławomir Nowak                  9996.300000\n",
       "Władysław Kosiniak-Kamysz       9174.230769\n",
       "Piotr Serafin                   8612.800000\n",
       "Tomasz Siemoniak                8471.545455\n",
       "Jarosław Gowin                  7785.571429\n",
       "Jarosław Kaczyński              7489.142857\n",
       "Name: text, dtype: float64"
      ]
     },
     "execution_count": 8,
     "metadata": {},
     "output_type": "execute_result"
    }
   ],
   "source": [
    "sejm.groupby('name')['text'].\\\n",
    "    apply(lambda x : np.mean(x.str.len())).\\\n",
    "    sort_values(ascending=False).nlargest(10)"
   ]
  },
  {
   "cell_type": "code",
   "execution_count": 11,
   "metadata": {},
   "outputs": [
    {
     "data": {
      "text/plain": [
       "' Przystępujemy do rozpatrzenia punktu 16.  porządku dziennego: Zmiany w składach osobowych komisji sejmowych .  Prezydium Sejmu na podstawie art.  20 ust.  1 i art.  148a ust.  12 regulaminu Sejmu, po zasięgnięciu opinii Konwentu Seniorów, przedłożyło wniosek w sprawie zmian w składach osobowych komisji sejmowych.  Czy ktoś z pań i panów posłów pragnie zabrać głos w sprawie przedstawionych propozycji?  Nie widzę.  Nikt się nie zgłasza.  Przystępujemy zatem do głosowania. '"
      ]
     },
     "execution_count": 11,
     "metadata": {},
     "output_type": "execute_result"
    }
   ],
   "source": [
    "sejm['text'][0]"
   ]
  },
  {
   "cell_type": "markdown",
   "metadata": {},
   "source": [
    "## What did PIS and PO talk about?"
   ]
  },
  {
   "cell_type": "code",
   "execution_count": 38,
   "metadata": {},
   "outputs": [],
   "source": [
    "sejm_dict = pd.read_csv('../data/sejm7.csv', delimiter=';', header=None, usecols=[0, 3])\n",
    "sejm_dict.columns = ['name', 'party']"
   ]
  },
  {
   "cell_type": "code",
   "execution_count": 108,
   "metadata": {},
   "outputs": [
    {
     "data": {
      "text/html": [
       "<div>\n",
       "<style scoped>\n",
       "    .dataframe tbody tr th:only-of-type {\n",
       "        vertical-align: middle;\n",
       "    }\n",
       "\n",
       "    .dataframe tbody tr th {\n",
       "        vertical-align: top;\n",
       "    }\n",
       "\n",
       "    .dataframe thead th {\n",
       "        text-align: right;\n",
       "    }\n",
       "</style>\n",
       "<table border=\"1\" class=\"dataframe\">\n",
       "  <thead>\n",
       "    <tr style=\"text-align: right;\">\n",
       "      <th></th>\n",
       "      <th>name</th>\n",
       "      <th>party</th>\n",
       "    </tr>\n",
       "  </thead>\n",
       "  <tbody>\n",
       "    <tr>\n",
       "      <th>0</th>\n",
       "      <td>Adam Abramowicz</td>\n",
       "      <td>PiS</td>\n",
       "    </tr>\n",
       "    <tr>\n",
       "      <th>1</th>\n",
       "      <td>Małgorzata Adamczak</td>\n",
       "      <td>PO</td>\n",
       "    </tr>\n",
       "    <tr>\n",
       "      <th>2</th>\n",
       "      <td>Andrzej Adamczyk</td>\n",
       "      <td>PiS</td>\n",
       "    </tr>\n",
       "    <tr>\n",
       "      <th>3</th>\n",
       "      <td>Romuald Ajchler</td>\n",
       "      <td>SLD</td>\n",
       "    </tr>\n",
       "    <tr>\n",
       "      <th>4</th>\n",
       "      <td>Leszek Aleksandrzak</td>\n",
       "      <td>SLD</td>\n",
       "    </tr>\n",
       "  </tbody>\n",
       "</table>\n",
       "</div>"
      ],
      "text/plain": [
       "                  name party\n",
       "0      Adam Abramowicz   PiS\n",
       "1  Małgorzata Adamczak    PO\n",
       "2     Andrzej Adamczyk   PiS\n",
       "3      Romuald Ajchler   SLD\n",
       "4  Leszek Aleksandrzak   SLD"
      ]
     },
     "execution_count": 108,
     "metadata": {},
     "output_type": "execute_result"
    }
   ],
   "source": [
    "sejm_dict = sejm_dict.drop_duplicates(subset='name')\n",
    "# we ignore the fact that party can be changed throughout a cadency\n",
    "sejm_dict.head()"
   ]
  },
  {
   "cell_type": "code",
   "execution_count": 112,
   "metadata": {},
   "outputs": [
    {
     "data": {
      "text/plain": [
       "PO     22461\n",
       "PiS    15305\n",
       "Name: party, dtype: int64"
      ]
     },
     "execution_count": 112,
     "metadata": {},
     "output_type": "execute_result"
    }
   ],
   "source": [
    "sejm = sejm.merge(sejm_dict, how='left')\n",
    "sejm['party'].value_counts()"
   ]
  },
  {
   "cell_type": "code",
   "execution_count": 113,
   "metadata": {},
   "outputs": [],
   "source": [
    "filtered_rows = (sejm['party'].isin(['PO', 'PiS'])) & (sejm['party'].notnull())\n",
    "sejm = sejm[filtered_rows]\n",
    "sejm = sejm.reset_index()"
   ]
  },
  {
   "cell_type": "markdown",
   "metadata": {},
   "source": [
    "## Lemmas\n",
    "\n",
    "We have already prepared lemmatized version of speeches (for lemmatization we used [KNNRT](../notebooks/0_krnnt_examples.ipynb), but you can also try [Morfeusz](../notebooks/0_morfeusz_examples.ipynb))."
   ]
  },
  {
   "cell_type": "code",
   "execution_count": 114,
   "metadata": {},
   "outputs": [
    {
     "data": {
      "text/plain": [
       "array(['przystępować do rozpatrzyć punkt 16 . porządek dzienny : zmiana w skład osobowy komisja sejmowy . prezydium sejm na podstawa artykuł . 20 ustęp . 1 i artykuł . 148a ustęp . 12 regulamin sejm , po zasięgnąć opinia konwent senior , przedłożyć wniosek w sprawa zmiana w skład osobowy komisja sejmowy . czy ktoś z pani i pan poseł pragnąć zabrać głos w sprawa przedstawić propozycja ? nie widzieć . nikt się nie zgłaszać . przystępować zatem do głosować .',\n",
       "       'kto z pani i pan poseł być za przyjąć wniosek prezydium sejm w sprawa wybór skład osobowy komisja do sprawa służba specjalny , w brzmienie proponować w druk numer 15 , zechcieć podnieść ręka i nacisnąć przycisk . kto być przeciw ? kto się wstrzymać ? głosować 435 poseł . za oddać swój głos 381 poseł , przeciw – 53 poseł , 1 poseł wstrzymać się od głos . stwierdzać , że sejm dokonać wybór skład osobowy komisja do sprawa służba specjalny . na to wyczerpać być porządek dzienny 1 . posiedzenie sejm Rzeczpospolita polski .'],\n",
       "      dtype=object)"
      ]
     },
     "execution_count": 114,
     "metadata": {},
     "output_type": "execute_result"
    }
   ],
   "source": [
    "np.array(sejm['lemma'])[:2]"
   ]
  },
  {
   "cell_type": "markdown",
   "metadata": {},
   "source": [
    "## Initial cleaning\n",
    "\n",
    "We will replace all numerics with a `NUM` string."
   ]
  },
  {
   "cell_type": "code",
   "execution_count": 115,
   "metadata": {},
   "outputs": [],
   "source": [
    "sejm['lemma'] = np.array(sejm['lemma'].replace(' \\d+ ', ' NUM ', regex=True))"
   ]
  },
  {
   "cell_type": "code",
   "execution_count": 116,
   "metadata": {},
   "outputs": [
    {
     "data": {
      "text/plain": [
       "'przystępować do rozpatrzyć punkt NUM . porządek dzienny : zmiana w skład osobowy komisja sejmowy . prezydium sejm na podstawa artykuł . NUM ustęp . NUM i artykuł . 148a ustęp . NUM regulamin sejm , po zasięgnąć opinia konwent senior , przedłożyć wniosek w sprawa zmiana w skład osobowy komisja sejmowy . czy ktoś z pani i pan poseł pragnąć zabrać głos w sprawa przedstawić propozycja ? nie widzieć . nikt się nie zgłaszać . przystępować zatem do głosować .'"
      ]
     },
     "execution_count": 116,
     "metadata": {},
     "output_type": "execute_result"
    }
   ],
   "source": [
    "sejm['lemma'][0]"
   ]
  },
  {
   "cell_type": "markdown",
   "metadata": {},
   "source": [
    "### Quick look at stopwords\n",
    "\n",
    "Term *stopwords* usually refers to the most common words in a language, however, there is no single universal list of stop words. In our example we may consider adding different words to the stopwords list, e.g. *marszałek* (all speeches are addressed *marszałek*), or removing words, e.g. *po* (as it has different meaning).\n",
    "\n",
    "They usually bring little meaning."
   ]
  },
  {
   "cell_type": "code",
   "execution_count": 32,
   "metadata": {},
   "outputs": [
    {
     "data": {
      "text/plain": [
       "['a', 'aby', 'ach', 'acz', 'aczkolwiek', 'aj', 'albo', 'ale', 'alez', 'ależ']"
      ]
     },
     "execution_count": 32,
     "metadata": {},
     "output_type": "execute_result"
    }
   ],
   "source": [
    "with open('../data/polish.stopwords.txt', 'r') as f:\n",
    "    stopwords = f.readlines()\n",
    "stopwords = [x.strip('\\n') for x in stopwords]\n",
    "stopwords[:10]"
   ]
  },
  {
   "cell_type": "code",
   "execution_count": 33,
   "metadata": {},
   "outputs": [
    {
     "data": {
      "text/plain": [
       "True"
      ]
     },
     "execution_count": 33,
     "metadata": {},
     "output_type": "execute_result"
    }
   ],
   "source": [
    "np.any([x == 'po' for x in stopwords])"
   ]
  },
  {
   "cell_type": "code",
   "execution_count": 34,
   "metadata": {},
   "outputs": [],
   "source": [
    "stopwords.remove('po')"
   ]
  },
  {
   "cell_type": "markdown",
   "metadata": {},
   "source": [
    "`sklearn`'s `CountVectorizer` automatically removes stopwords."
   ]
  },
  {
   "cell_type": "markdown",
   "metadata": {},
   "source": [
    "## LDA in sklearn"
   ]
  },
  {
   "cell_type": "code",
   "execution_count": 43,
   "metadata": {},
   "outputs": [],
   "source": [
    "from sklearn.feature_extraction.text import CountVectorizer"
   ]
  },
  {
   "cell_type": "code",
   "execution_count": 44,
   "metadata": {},
   "outputs": [],
   "source": [
    "cv = CountVectorizer(min_df=0.01, \n",
    "                     max_df=0.3, \n",
    "                     stop_words=stopwords)"
   ]
  },
  {
   "cell_type": "code",
   "execution_count": 45,
   "metadata": {},
   "outputs": [
    {
     "data": {
      "text/plain": [
       "<37766x1363 sparse matrix of type '<class 'numpy.int64'>'\n",
       "\twith 1731866 stored elements in Compressed Sparse Row format>"
      ]
     },
     "execution_count": 45,
     "metadata": {},
     "output_type": "execute_result"
    }
   ],
   "source": [
    "cv_X = cv.fit_transform(sejm['lemma'])\n",
    "cv_X"
   ]
  },
  {
   "cell_type": "code",
   "execution_count": 46,
   "metadata": {},
   "outputs": [],
   "source": [
    "counts = pd.DataFrame({\n",
    "    'word': cv.get_feature_names(),\n",
    "    'count': cv_X.toarray().sum(axis=0)\n",
    "})"
   ]
  },
  {
   "cell_type": "code",
   "execution_count": 47,
   "metadata": {},
   "outputs": [
    {
     "data": {
      "text/html": [
       "<div>\n",
       "<style scoped>\n",
       "    .dataframe tbody tr th:only-of-type {\n",
       "        vertical-align: middle;\n",
       "    }\n",
       "\n",
       "    .dataframe tbody tr th {\n",
       "        vertical-align: top;\n",
       "    }\n",
       "\n",
       "    .dataframe thead th {\n",
       "        text-align: right;\n",
       "    }\n",
       "</style>\n",
       "<table border=\"1\" class=\"dataframe\">\n",
       "  <thead>\n",
       "    <tr style=\"text-align: right;\">\n",
       "      <th></th>\n",
       "      <th>count</th>\n",
       "      <th>word</th>\n",
       "    </tr>\n",
       "  </thead>\n",
       "  <tbody>\n",
       "    <tr>\n",
       "      <th>843</th>\n",
       "      <td>45719</td>\n",
       "      <td>rok</td>\n",
       "    </tr>\n",
       "    <tr>\n",
       "      <th>729</th>\n",
       "      <td>29417</td>\n",
       "      <td>projekt</td>\n",
       "    </tr>\n",
       "    <tr>\n",
       "      <th>568</th>\n",
       "      <td>25896</td>\n",
       "      <td>państwo</td>\n",
       "    </tr>\n",
       "    <tr>\n",
       "      <th>316</th>\n",
       "      <td>24278</td>\n",
       "      <td>komisja</td>\n",
       "    </tr>\n",
       "    <tr>\n",
       "      <th>714</th>\n",
       "      <td>21782</td>\n",
       "      <td>prawo</td>\n",
       "    </tr>\n",
       "    <tr>\n",
       "      <th>922</th>\n",
       "      <td>21734</td>\n",
       "      <td>sprawa</td>\n",
       "    </tr>\n",
       "    <tr>\n",
       "      <th>634</th>\n",
       "      <td>21377</td>\n",
       "      <td>polski</td>\n",
       "    </tr>\n",
       "    <tr>\n",
       "      <th>647</th>\n",
       "      <td>20788</td>\n",
       "      <td>poprawka</td>\n",
       "    </tr>\n",
       "    <tr>\n",
       "      <th>414</th>\n",
       "      <td>20354</td>\n",
       "      <td>móc</td>\n",
       "    </tr>\n",
       "    <tr>\n",
       "      <th>592</th>\n",
       "      <td>20182</td>\n",
       "      <td>po</td>\n",
       "    </tr>\n",
       "    <tr>\n",
       "      <th>807</th>\n",
       "      <td>19750</td>\n",
       "      <td>pytanie</td>\n",
       "    </tr>\n",
       "    <tr>\n",
       "      <th>96</th>\n",
       "      <td>19151</td>\n",
       "      <td>chcieć</td>\n",
       "    </tr>\n",
       "    <tr>\n",
       "      <th>633</th>\n",
       "      <td>17925</td>\n",
       "      <td>polska</td>\n",
       "    </tr>\n",
       "    <tr>\n",
       "      <th>1305</th>\n",
       "      <td>17828</td>\n",
       "      <td>zmiana</td>\n",
       "    </tr>\n",
       "    <tr>\n",
       "      <th>882</th>\n",
       "      <td>16691</td>\n",
       "      <td>sejm</td>\n",
       "    </tr>\n",
       "  </tbody>\n",
       "</table>\n",
       "</div>"
      ],
      "text/plain": [
       "      count      word\n",
       "843   45719       rok\n",
       "729   29417   projekt\n",
       "568   25896   państwo\n",
       "316   24278   komisja\n",
       "714   21782     prawo\n",
       "922   21734    sprawa\n",
       "634   21377    polski\n",
       "647   20788  poprawka\n",
       "414   20354       móc\n",
       "592   20182        po\n",
       "807   19750   pytanie\n",
       "96    19151    chcieć\n",
       "633   17925    polska\n",
       "1305  17828    zmiana\n",
       "882   16691      sejm"
      ]
     },
     "execution_count": 47,
     "metadata": {},
     "output_type": "execute_result"
    }
   ],
   "source": [
    "counts.sort_values('count', ascending=False).head(15)"
   ]
  },
  {
   "cell_type": "code",
   "execution_count": 74,
   "metadata": {},
   "outputs": [
    {
     "data": {
      "text/plain": [
       "LatentDirichletAllocation(batch_size=128, doc_topic_prior=None,\n",
       "             evaluate_every=-1, learning_decay=0.7,\n",
       "             learning_method='online', learning_offset=10.0,\n",
       "             max_doc_update_iter=100, max_iter=5, mean_change_tol=0.001,\n",
       "             n_components=10, n_jobs=1, n_topics=None, perp_tol=0.1,\n",
       "             random_state=123, topic_word_prior=None,\n",
       "             total_samples=1000000.0, verbose=0)"
      ]
     },
     "execution_count": 74,
     "metadata": {},
     "output_type": "execute_result"
    }
   ],
   "source": [
    "from sklearn.decomposition import LatentDirichletAllocation as LDA\n",
    "\n",
    "n_components = 10\n",
    "lda = LDA(n_components=n_components, \n",
    "          max_iter=5,\n",
    "          learning_method='online',\n",
    "          random_state=123)\n",
    "lda.fit(cv_X)"
   ]
  },
  {
   "cell_type": "code",
   "execution_count": 75,
   "metadata": {},
   "outputs": [],
   "source": [
    "def print_top_words(model, feature_names, n_top_words):\n",
    "    for topic_idx, topic in enumerate(model.components_):\n",
    "        message = 'Topic #%d: ' % topic_idx\n",
    "        message += ' '.join([feature_names[i]\n",
    "                             for i in topic.argsort()[:-n_top_words - 1:-1]])\n",
    "        print(message)\n",
    "    print()"
   ]
  },
  {
   "cell_type": "code",
   "execution_count": 76,
   "metadata": {},
   "outputs": [
    {
     "name": "stdout",
     "output_type": "stream",
     "text": [
      "Topic #0: podatek spółka umowa polska państwo przedsiębiorca podatkowy rynek polski działalność koszt skarb\n",
      "Topic #1: polski rok polska po zostać swój służba narodowy rzeczpospolita dzień sprawa rada\n",
      "Topic #2: komisja projekt sejm sprawozdanie wniosek punkt dyskusja zmiana porządek sprawa dzienny uchwała\n",
      "Topic #3: projekt prawo zmiana przepis artykuł dotyczyć klub praca sprawa sąd sprawiedliwość osoba\n",
      "Topic #4: pytanie prawo godzina sprawiedliwość obywatelski platforma zabrać zadać wicemarszałek klub odpowiedź sprawa\n",
      "Topic #5: dziecko szkoła zdrowie rodzina rok osoba system rodzic móc program problem pacjent\n",
      "Topic #6: rok program droga środek europejski samorząd zostać realizacja rozwój inwestycja dotyczyć zadanie\n",
      "Topic #7: rok praca złoty budżet osoba miliard społeczny milion fundusz publiczny wzrost kwota\n",
      "Topic #8: poprawka wstrzymać przyjąć głosować senat odrzucić przeciw głosowanie ręka podnieść zechcieć stwierdzać\n",
      "Topic #9: chcieć państwo mówić móc powiedzieć po pytanie chodzić rząd sprawa polska wiedzieć\n",
      "\n"
     ]
    }
   ],
   "source": [
    "print_top_words(lda, cv.get_feature_names(), 12)"
   ]
  },
  {
   "cell_type": "markdown",
   "metadata": {},
   "source": [
    "You may consider using different stopwords, e.g. are *rok*, *punkt* necessary?"
   ]
  },
  {
   "cell_type": "markdown",
   "metadata": {},
   "source": [
    "### Visualize documents"
   ]
  },
  {
   "cell_type": "markdown",
   "metadata": {},
   "source": [
    "Can LDA help us to characterize political language in Polish parliament? Let's start by plotting topic distribution for different parties."
   ]
  },
  {
   "cell_type": "code",
   "execution_count": 77,
   "metadata": {},
   "outputs": [],
   "source": [
    "lda_features = lda.transform(cv_X)\n",
    "party_lda = pd.concat([pd.DataFrame(lda_features), \n",
    "                     sejm['party'].reset_index()['party']], axis=1)"
   ]
  },
  {
   "cell_type": "code",
   "execution_count": 78,
   "metadata": {},
   "outputs": [
    {
     "data": {
      "image/png": "[encoded data removed]",
      "text/plain": [
       "<Figure size 432x288 with 1 Axes>"
      ]
     },
     "metadata": {},
     "output_type": "display_data"
    }
   ],
   "source": [
    "bar_pca = party_lda.\\\n",
    "    groupby('party').mean().transpose().plot.bar()"
   ]
  },
  {
   "cell_type": "markdown",
   "metadata": {},
   "source": [
    "**Task**\n",
    "\n",
    "Visualize LDA in 2d space grouped by party. Try PCA or t-SNE (t-SNE may take much time to converge)."
   ]
  },
  {
   "cell_type": "markdown",
   "metadata": {},
   "source": [
    "**Task**\n",
    "\n",
    "Pick one topic and visualize its share changes in time."
   ]
  },
  {
   "cell_type": "markdown",
   "metadata": {},
   "source": [
    "**Task** (Exhaustive)\n",
    "\n",
    "Play with different numbers of topics in LDA. Try grid searching over number of topics maximizing log-likelihood. Which number is the best for the party classification problem?"
   ]
  },
  {
   "cell_type": "markdown",
   "metadata": {},
   "source": [
    "**Task**\n",
    "\n",
    "Compare different parties subsets using LDA."
   ]
  },
  {
   "cell_type": "code",
   "execution_count": null,
   "metadata": {},
   "outputs": [],
   "source": []
  }
 ],
 "metadata": {
  "kernelspec": {
   "display_name": "nlp-workshop",
   "language": "python",
   "name": "nlp-workshop"
  },
  "language_info": {
   "codemirror_mode": {
    "name": "ipython",
    "version": 3
   },
   "file_extension": ".py",
   "mimetype": "text/x-python",
   "name": "python",
   "nbconvert_exporter": "python",
   "pygments_lexer": "ipython3",
   "version": "3.6.3"
  }
 },
 "nbformat": 4,
 "nbformat_minor": 2
}
