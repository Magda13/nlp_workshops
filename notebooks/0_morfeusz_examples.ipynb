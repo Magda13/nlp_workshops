{
 "cells": [
  {
   "cell_type": "markdown",
   "metadata": {},
   "source": [
    "# Morfeusz"
   ]
  },
  {
   "cell_type": "markdown",
   "metadata": {},
   "source": [
    "**[Morfeusz 2](http://sgjp.pl/morfeusz/morfeusz.html)** carries out a morphological analysis for Polish. It is equipped with a huge dictionary of Polish words (~7 mln words) together with their lemmas and their part of speech. \n",
    "\n",
    "It does not use word's context for lemmatization - each word is analyzed separately. If morphological disambiguation is detected for a given word (meaning there are many possible words that could be lemmas for the word) all candidates for lemmas are returned.\n",
    "\n",
    "Morfeusz does not have Python 3 bindings. On the other hand, Polish NLP in Python 2 is not very convenient (yep, getting the right encoding hurts!). Thus, we give you our own 'bindings' to Python 3 [here](../src/morfeusz2.py).  \n",
    "\n",
    "The easiest way to run Morfeusz is through docker. \n",
    "\n",
    "You may use [this Dockerfile](../docker/morfeusz). \n",
    "\n",
    "How? Just navigate to the home directory of the `nlp_workshop` repository and run in your terminal:\n",
    "\n",
    "```make docker-build-morfeusz\n",
    " make docker-run-morfeusz```\n",
    " \n",
    "The above will initialize jupyter notebook kernel.\n",
    "\n",
    "Now you are ready to run this notebook."
   ]
  },
  {
   "cell_type": "code",
   "execution_count": 9,
   "metadata": {},
   "outputs": [],
   "source": [
    "import sys\n",
    "sys.path.append('../src/') \n",
    "\n",
    "from morfeusz2 import Morfeusz"
   ]
  },
  {
   "cell_type": "code",
   "execution_count": 10,
   "metadata": {},
   "outputs": [],
   "source": [
    "morf = Morfeusz()"
   ]
  },
  {
   "cell_type": "code",
   "execution_count": 11,
   "metadata": {},
   "outputs": [],
   "source": [
    "text = 'Ala ma kota. Alo, gdzie Twój kot?'"
   ]
  },
  {
   "cell_type": "code",
   "execution_count": 12,
   "metadata": {},
   "outputs": [],
   "source": [
    "result = morf.analyse(text)"
   ]
  },
  {
   "cell_type": "code",
   "execution_count": 13,
   "metadata": {},
   "outputs": [
    {
     "data": {
      "text/plain": [
       "[['[0', '1', 'Ala', 'Ala', 'subst:sg:nom:f', 'imię', '_'],\n",
       " [' 0', '1', 'Ala', 'Al', 'subst:sg:gen.acc:m1', 'imię', '_'],\n",
       " [' 0', '1', 'Ala', 'Alo', 'subst:sg:gen.acc:m1', 'imię', '_'],\n",
       " ['1', '2', 'ma', 'mój:a', 'adj:sg:nom.voc:f:pos', '_', '_'],\n",
       " [' 1', '2', 'ma', 'mieć', 'fin:sg:ter:imperf', '_', '_'],\n",
       " ['2', '3', 'kota', 'kota', 'subst:sg:nom:f', 'nazwa pospolita', '_'],\n",
       " [' 2', '3', 'kota', 'kot:s1', 'subst:sg:gen.acc:m2', 'nazwa pospolita', '_'],\n",
       " [' 2',\n",
       "  '3',\n",
       "  'kota',\n",
       "  'kot:s2',\n",
       "  'subst:sg:gen.acc:m1',\n",
       "  'nazwa pospolita',\n",
       "  'pot.|środ.'],\n",
       " ['3', '4', '.', '.', 'interp', '_', '_'],\n",
       " ['4', '5', 'Alo', 'Alo', 'subst:sg:nom:m1', 'imię', '_'],\n",
       " [' 4', '5', 'Alo', 'Alo', 'subst:sg:voc:m1', 'imię', '_'],\n",
       " ['5', '6', '', '', '', '', 'interp', '_', '_'],\n",
       " ['6', '7', 'gdzie', 'gdzie:d', 'adv', '_', '_'],\n",
       " [' 6', '7', 'gdzie', 'gdzie:q', 'qub', '_', '_'],\n",
       " ['7', '8', 'Twój', 'twój:s', 'subst:sg:nom:m1', 'nazwa pospolita', 'pot.'],\n",
       " [' 7', '8', 'Twój', 'twój:s', 'subst:sg:voc:m1', 'nazwa pospolita', 'pot.'],\n",
       " [' 7', '8', 'Twój', 'twój:a', 'adj:sg:acc:m3:pos', '_', '_'],\n",
       " [' 7', '8', 'Twój', 'twój:a', 'adj:sg:nom.voc:m1.m2.m3:pos', '_', '_'],\n",
       " ['8', '9', 'kot', 'kot:s1', 'subst:sg:nom:m2', 'nazwa pospolita', '_'],\n",
       " [' 8',\n",
       "  '9',\n",
       "  'kot',\n",
       "  'kot:s2',\n",
       "  'subst:sg:nom:m1',\n",
       "  'nazwa pospolita',\n",
       "  'pot.|środ.'],\n",
       " [' 8', '9', 'kot', 'kota', 'subst:pl:gen:f', 'nazwa pospolita', '_'],\n",
       " ['9', '10', '?', '?', 'interp', '_', '_]']]"
      ]
     },
     "execution_count": 13,
     "metadata": {},
     "output_type": "execute_result"
    }
   ],
   "source": [
    "result"
   ]
  },
  {
   "cell_type": "code",
   "execution_count": 14,
   "metadata": {},
   "outputs": [],
   "source": [
    "import pandas as pd\n",
    "\n",
    "def lemmatize(text):\n",
    "    result = morf.analyse(text)\n",
    "    morf_df = pd.DataFrame(result)[[1, 2]]\n",
    "    morf_df.columns = ['word_number', 'word']\n",
    "    morf_df.drop_duplicates(subset=['word_number'], keep='first', inplace=True)\n",
    "    return list(morf_df['word'])"
   ]
  },
  {
   "cell_type": "code",
   "execution_count": 15,
   "metadata": {},
   "outputs": [
    {
     "data": {
      "text/plain": [
       "['Ala', 'ma', 'kota', '.', 'Alo', '', 'gdzie', 'Twój', 'kot', '?']"
      ]
     },
     "execution_count": 15,
     "metadata": {},
     "output_type": "execute_result"
    }
   ],
   "source": [
    "lemmatize(text)"
   ]
  },
  {
   "cell_type": "code",
   "execution_count": null,
   "metadata": {},
   "outputs": [],
   "source": []
  }
 ],
 "metadata": {
  "kernelspec": {
   "display_name": "Python 3",
   "language": "python",
   "name": "python3"
  },
  "language_info": {
   "codemirror_mode": {
    "name": "ipython",
    "version": 3
   },
   "file_extension": ".py",
   "mimetype": "text/x-python",
   "name": "python",
   "nbconvert_exporter": "python",
   "pygments_lexer": "ipython3",
   "version": "3.5.2"
  }
 },
 "nbformat": 4,
 "nbformat_minor": 2
}
